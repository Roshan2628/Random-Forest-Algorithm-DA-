{
 "cells": [
  {
   "cell_type": "markdown",
   "id": "4624396e-3c1c-421d-a9df-e2421010b0eb",
   "metadata": {},
   "source": [
    "## DA using Random Forest Algorithm of Cloth Company Data"
   ]
  },
  {
   "cell_type": "code",
   "execution_count": 41,
   "id": "7eb1af24-2235-4ae7-9dda-c37d9d5e9293",
   "metadata": {},
   "outputs": [],
   "source": [
    "# Firstly We Have to IMPORT the Libraries -\n",
    "import pandas as pd\n",
    "import seaborn as sns\n",
    "import matplotlib.pyplot as plt\n",
    "from sklearn.ensemble import RandomForestClassifier\n",
    "from sklearn.metrics import accuracy_score,confusion_matrix\n",
    "from sklearn.model_selection import train_test_split"
   ]
  },
  {
   "cell_type": "code",
   "execution_count": 42,
   "id": "6159ff74-5a62-4c88-acca-0483b1874e11",
   "metadata": {},
   "outputs": [
    {
     "data": {
      "text/html": [
       "<div>\n",
       "<style scoped>\n",
       "    .dataframe tbody tr th:only-of-type {\n",
       "        vertical-align: middle;\n",
       "    }\n",
       "\n",
       "    .dataframe tbody tr th {\n",
       "        vertical-align: top;\n",
       "    }\n",
       "\n",
       "    .dataframe thead th {\n",
       "        text-align: right;\n",
       "    }\n",
       "</style>\n",
       "<table border=\"1\" class=\"dataframe\">\n",
       "  <thead>\n",
       "    <tr style=\"text-align: right;\">\n",
       "      <th></th>\n",
       "      <th>Sales</th>\n",
       "      <th>CompPrice</th>\n",
       "      <th>Income</th>\n",
       "      <th>Advertising</th>\n",
       "      <th>Population</th>\n",
       "      <th>Price</th>\n",
       "      <th>ShelveLoc</th>\n",
       "      <th>Age</th>\n",
       "      <th>Education</th>\n",
       "      <th>Urban</th>\n",
       "      <th>US</th>\n",
       "    </tr>\n",
       "  </thead>\n",
       "  <tbody>\n",
       "    <tr>\n",
       "      <th>0</th>\n",
       "      <td>9.50</td>\n",
       "      <td>138</td>\n",
       "      <td>73</td>\n",
       "      <td>11</td>\n",
       "      <td>276</td>\n",
       "      <td>120</td>\n",
       "      <td>Bad</td>\n",
       "      <td>42</td>\n",
       "      <td>17</td>\n",
       "      <td>Yes</td>\n",
       "      <td>Yes</td>\n",
       "    </tr>\n",
       "    <tr>\n",
       "      <th>1</th>\n",
       "      <td>11.22</td>\n",
       "      <td>111</td>\n",
       "      <td>48</td>\n",
       "      <td>16</td>\n",
       "      <td>260</td>\n",
       "      <td>83</td>\n",
       "      <td>Good</td>\n",
       "      <td>65</td>\n",
       "      <td>10</td>\n",
       "      <td>Yes</td>\n",
       "      <td>Yes</td>\n",
       "    </tr>\n",
       "  </tbody>\n",
       "</table>\n",
       "</div>"
      ],
      "text/plain": [
       "   Sales  CompPrice  Income  Advertising  Population  Price ShelveLoc  Age  \\\n",
       "0   9.50        138      73           11         276    120       Bad   42   \n",
       "1  11.22        111      48           16         260     83      Good   65   \n",
       "\n",
       "   Education Urban   US  \n",
       "0         17   Yes  Yes  \n",
       "1         10   Yes  Yes  "
      ]
     },
     "execution_count": 42,
     "metadata": {},
     "output_type": "execute_result"
    }
   ],
   "source": [
    "# Importing the Data from our system \n",
    "data = pd.read_csv('D:/Top Mentor/Classes Details/4th May/Files/Random Forest Project 9 & 10/Random Forests/Company_Data.csv')\n",
    "data.head(2)"
   ]
  },
  {
   "cell_type": "code",
   "execution_count": 43,
   "id": "b36ad13f-9b70-4f01-995d-ee4dcdceb9ee",
   "metadata": {},
   "outputs": [
    {
     "name": "stdout",
     "output_type": "stream",
     "text": [
      "   Sales  CompPrice  Income  Advertising  Population  Price ShelveLoc  Age  \\\n",
      "0   9.50        138      73           11         276    120       Bad   42   \n",
      "1  11.22        111      48           16         260     83      Good   65   \n",
      "\n",
      "   Education Urban   US  \n",
      "0         17   Yes  Yes  \n",
      "1         10   Yes  Yes  \n"
     ]
    }
   ],
   "source": [
    "# Copy the data - \n",
    "df = data.copy()\n",
    "print(df.head(2))"
   ]
  },
  {
   "cell_type": "code",
   "execution_count": 44,
   "id": "59145fac-e9e6-41f5-bb38-761f7fedf539",
   "metadata": {
    "scrolled": true
   },
   "outputs": [
    {
     "name": "stdout",
     "output_type": "stream",
     "text": [
      "No of columns - \n",
      " Index(['Sales', 'CompPrice', 'Income', 'Advertising', 'Population', 'Price',\n",
      "       'ShelveLoc', 'Age', 'Education', 'Urban', 'US'],\n",
      "      dtype='object')\n",
      "No of shapes -  (400, 11)\n",
      "No of lenght -  400\n",
      "No of datatype - \n",
      " Sales          float64\n",
      "CompPrice        int64\n",
      "Income           int64\n",
      "Advertising      int64\n",
      "Population       int64\n",
      "Price            int64\n",
      "ShelveLoc       object\n",
      "Age              int64\n",
      "Education        int64\n",
      "Urban           object\n",
      "US              object\n",
      "dtype: object\n",
      "No of Null Value Count -\n",
      " Sales          0\n",
      "CompPrice      0\n",
      "Income         0\n",
      "Advertising    0\n",
      "Population     0\n",
      "Price          0\n",
      "ShelveLoc      0\n",
      "Age            0\n",
      "Education      0\n",
      "Urban          0\n",
      "US             0\n",
      "dtype: int64\n"
     ]
    }
   ],
   "source": [
    "## Data Reading Basic Steps :-\n",
    "print('No of columns - \\n' , df.columns)\n",
    "print('No of shapes - ' , df.shape)\n",
    "print('No of lenght - ' , len(df))\n",
    "print('No of datatype - \\n' , df.dtypes)\n",
    "print('No of Null Value Count -\\n',df.isnull().sum())"
   ]
  },
  {
   "cell_type": "code",
   "execution_count": 45,
   "id": "85698005-d503-4c75-87b6-a99b39678277",
   "metadata": {},
   "outputs": [
    {
     "name": "stdout",
     "output_type": "stream",
     "text": [
      "DataSet Information -\n",
      "             Sales   CompPrice      Income  Advertising  Population  \\\n",
      "count  400.000000  400.000000  400.000000   400.000000  400.000000   \n",
      "mean     7.496325  124.975000   68.657500     6.635000  264.840000   \n",
      "std      2.824115   15.334512   27.986037     6.650364  147.376436   \n",
      "min      0.000000   77.000000   21.000000     0.000000   10.000000   \n",
      "25%      5.390000  115.000000   42.750000     0.000000  139.000000   \n",
      "50%      7.490000  125.000000   69.000000     5.000000  272.000000   \n",
      "75%      9.320000  135.000000   91.000000    12.000000  398.500000   \n",
      "max     16.270000  175.000000  120.000000    29.000000  509.000000   \n",
      "\n",
      "            Price         Age   Education  \n",
      "count  400.000000  400.000000  400.000000  \n",
      "mean   115.795000   53.322500   13.900000  \n",
      "std     23.676664   16.200297    2.620528  \n",
      "min     24.000000   25.000000   10.000000  \n",
      "25%    100.000000   39.750000   12.000000  \n",
      "50%    117.000000   54.500000   14.000000  \n",
      "75%    131.000000   66.000000   16.000000  \n",
      "max    191.000000   80.000000   18.000000  \n"
     ]
    }
   ],
   "source": [
    "print('DataSet Information -\\n',df.describe())"
   ]
  },
  {
   "cell_type": "code",
   "execution_count": 49,
   "id": "9ed60fce-9580-4486-a0ee-0249f67cc64c",
   "metadata": {},
   "outputs": [
    {
     "name": "stdout",
     "output_type": "stream",
     "text": [
      "Index(['Sales', 'CompPrice', 'Income', 'Advertising', 'Population', 'Price',\n",
      "       'ShelveLoc', 'Age', 'Education', 'Urban', 'US'],\n",
      "      dtype='object')\n"
     ]
    }
   ],
   "source": [
    "from sklearn.preprocessing import LabelEncoder\n",
    "label_encoder = LabelEncoder()\n",
    "print(df.columns)"
   ]
  },
  {
   "cell_type": "code",
   "execution_count": 50,
   "id": "e12438e5-71cc-492f-8eda-4af36d14d480",
   "metadata": {},
   "outputs": [],
   "source": [
    "df['US'] = label_encoder.fit_transform(df['US'])"
   ]
  },
  {
   "cell_type": "code",
   "execution_count": 51,
   "id": "43c65918-516b-49fe-b41c-ad41e818b47a",
   "metadata": {},
   "outputs": [
    {
     "data": {
      "text/html": [
       "<div>\n",
       "<style scoped>\n",
       "    .dataframe tbody tr th:only-of-type {\n",
       "        vertical-align: middle;\n",
       "    }\n",
       "\n",
       "    .dataframe tbody tr th {\n",
       "        vertical-align: top;\n",
       "    }\n",
       "\n",
       "    .dataframe thead th {\n",
       "        text-align: right;\n",
       "    }\n",
       "</style>\n",
       "<table border=\"1\" class=\"dataframe\">\n",
       "  <thead>\n",
       "    <tr style=\"text-align: right;\">\n",
       "      <th></th>\n",
       "      <th>Sales</th>\n",
       "      <th>CompPrice</th>\n",
       "      <th>Income</th>\n",
       "      <th>Advertising</th>\n",
       "      <th>Population</th>\n",
       "      <th>Price</th>\n",
       "      <th>ShelveLoc</th>\n",
       "      <th>Age</th>\n",
       "      <th>Education</th>\n",
       "      <th>Urban</th>\n",
       "      <th>US</th>\n",
       "    </tr>\n",
       "  </thead>\n",
       "  <tbody>\n",
       "    <tr>\n",
       "      <th>0</th>\n",
       "      <td>9.50</td>\n",
       "      <td>138</td>\n",
       "      <td>73</td>\n",
       "      <td>11</td>\n",
       "      <td>276</td>\n",
       "      <td>120</td>\n",
       "      <td>Bad</td>\n",
       "      <td>42</td>\n",
       "      <td>17</td>\n",
       "      <td>Yes</td>\n",
       "      <td>1</td>\n",
       "    </tr>\n",
       "    <tr>\n",
       "      <th>1</th>\n",
       "      <td>11.22</td>\n",
       "      <td>111</td>\n",
       "      <td>48</td>\n",
       "      <td>16</td>\n",
       "      <td>260</td>\n",
       "      <td>83</td>\n",
       "      <td>Good</td>\n",
       "      <td>65</td>\n",
       "      <td>10</td>\n",
       "      <td>Yes</td>\n",
       "      <td>1</td>\n",
       "    </tr>\n",
       "    <tr>\n",
       "      <th>2</th>\n",
       "      <td>10.06</td>\n",
       "      <td>113</td>\n",
       "      <td>35</td>\n",
       "      <td>10</td>\n",
       "      <td>269</td>\n",
       "      <td>80</td>\n",
       "      <td>Medium</td>\n",
       "      <td>59</td>\n",
       "      <td>12</td>\n",
       "      <td>Yes</td>\n",
       "      <td>1</td>\n",
       "    </tr>\n",
       "    <tr>\n",
       "      <th>3</th>\n",
       "      <td>7.40</td>\n",
       "      <td>117</td>\n",
       "      <td>100</td>\n",
       "      <td>4</td>\n",
       "      <td>466</td>\n",
       "      <td>97</td>\n",
       "      <td>Medium</td>\n",
       "      <td>55</td>\n",
       "      <td>14</td>\n",
       "      <td>Yes</td>\n",
       "      <td>1</td>\n",
       "    </tr>\n",
       "    <tr>\n",
       "      <th>4</th>\n",
       "      <td>4.15</td>\n",
       "      <td>141</td>\n",
       "      <td>64</td>\n",
       "      <td>3</td>\n",
       "      <td>340</td>\n",
       "      <td>128</td>\n",
       "      <td>Bad</td>\n",
       "      <td>38</td>\n",
       "      <td>13</td>\n",
       "      <td>Yes</td>\n",
       "      <td>0</td>\n",
       "    </tr>\n",
       "  </tbody>\n",
       "</table>\n",
       "</div>"
      ],
      "text/plain": [
       "   Sales  CompPrice  Income  Advertising  Population  Price ShelveLoc  Age  \\\n",
       "0   9.50        138      73           11         276    120       Bad   42   \n",
       "1  11.22        111      48           16         260     83      Good   65   \n",
       "2  10.06        113      35           10         269     80    Medium   59   \n",
       "3   7.40        117     100            4         466     97    Medium   55   \n",
       "4   4.15        141      64            3         340    128       Bad   38   \n",
       "\n",
       "   Education Urban  US  \n",
       "0         17   Yes   1  \n",
       "1         10   Yes   1  \n",
       "2         12   Yes   1  \n",
       "3         14   Yes   1  \n",
       "4         13   Yes   0  "
      ]
     },
     "execution_count": 51,
     "metadata": {},
     "output_type": "execute_result"
    }
   ],
   "source": [
    "df.head()"
   ]
  },
  {
   "cell_type": "code",
   "execution_count": 73,
   "id": "b8c8d574-0125-49ad-aded-babc64cf3f42",
   "metadata": {},
   "outputs": [],
   "source": [
    "## Now we starting the training & Testing for data - \n",
    "X = df[['CompPrice','Sales','Income','Price','Advertising']]\n",
    "y =df['US'] "
   ]
  },
  {
   "cell_type": "code",
   "execution_count": 74,
   "id": "c6253bf9-677d-46a2-beb6-7b756693dbb7",
   "metadata": {},
   "outputs": [
    {
     "data": {
      "text/html": [
       "<div>\n",
       "<style scoped>\n",
       "    .dataframe tbody tr th:only-of-type {\n",
       "        vertical-align: middle;\n",
       "    }\n",
       "\n",
       "    .dataframe tbody tr th {\n",
       "        vertical-align: top;\n",
       "    }\n",
       "\n",
       "    .dataframe thead th {\n",
       "        text-align: right;\n",
       "    }\n",
       "</style>\n",
       "<table border=\"1\" class=\"dataframe\">\n",
       "  <thead>\n",
       "    <tr style=\"text-align: right;\">\n",
       "      <th></th>\n",
       "      <th>CompPrice</th>\n",
       "      <th>Sales</th>\n",
       "      <th>Income</th>\n",
       "      <th>Price</th>\n",
       "      <th>Advertising</th>\n",
       "    </tr>\n",
       "  </thead>\n",
       "  <tbody>\n",
       "    <tr>\n",
       "      <th>0</th>\n",
       "      <td>138</td>\n",
       "      <td>9.50</td>\n",
       "      <td>73</td>\n",
       "      <td>120</td>\n",
       "      <td>11</td>\n",
       "    </tr>\n",
       "    <tr>\n",
       "      <th>1</th>\n",
       "      <td>111</td>\n",
       "      <td>11.22</td>\n",
       "      <td>48</td>\n",
       "      <td>83</td>\n",
       "      <td>16</td>\n",
       "    </tr>\n",
       "    <tr>\n",
       "      <th>2</th>\n",
       "      <td>113</td>\n",
       "      <td>10.06</td>\n",
       "      <td>35</td>\n",
       "      <td>80</td>\n",
       "      <td>10</td>\n",
       "    </tr>\n",
       "    <tr>\n",
       "      <th>3</th>\n",
       "      <td>117</td>\n",
       "      <td>7.40</td>\n",
       "      <td>100</td>\n",
       "      <td>97</td>\n",
       "      <td>4</td>\n",
       "    </tr>\n",
       "    <tr>\n",
       "      <th>4</th>\n",
       "      <td>141</td>\n",
       "      <td>4.15</td>\n",
       "      <td>64</td>\n",
       "      <td>128</td>\n",
       "      <td>3</td>\n",
       "    </tr>\n",
       "  </tbody>\n",
       "</table>\n",
       "</div>"
      ],
      "text/plain": [
       "   CompPrice  Sales  Income  Price  Advertising\n",
       "0        138   9.50      73    120           11\n",
       "1        111  11.22      48     83           16\n",
       "2        113  10.06      35     80           10\n",
       "3        117   7.40     100     97            4\n",
       "4        141   4.15      64    128            3"
      ]
     },
     "execution_count": 74,
     "metadata": {},
     "output_type": "execute_result"
    }
   ],
   "source": [
    "X.head()"
   ]
  },
  {
   "cell_type": "code",
   "execution_count": 75,
   "id": "8040a734-b663-4835-a30e-e0b25b1dd92a",
   "metadata": {},
   "outputs": [
    {
     "data": {
      "text/plain": [
       "0    1\n",
       "1    1\n",
       "2    1\n",
       "3    1\n",
       "4    0\n",
       "Name: US, dtype: int32"
      ]
     },
     "execution_count": 75,
     "metadata": {},
     "output_type": "execute_result"
    }
   ],
   "source": [
    "y.head()"
   ]
  },
  {
   "cell_type": "code",
   "execution_count": 76,
   "id": "d37cc88d-31ca-4de3-8cea-610fa57135e1",
   "metadata": {},
   "outputs": [],
   "source": [
    "X_train , X_test , y_train , y_test = train_test_split(X,y,test_size=0.2, random_state=42) "
   ]
  },
  {
   "cell_type": "code",
   "execution_count": 77,
   "id": "4d090fa0-2c95-43bf-8b97-3880f9cb65fe",
   "metadata": {},
   "outputs": [
    {
     "data": {
      "text/plain": [
       "((320, 5), (320,))"
      ]
     },
     "execution_count": 77,
     "metadata": {},
     "output_type": "execute_result"
    }
   ],
   "source": [
    "X_train.shape , y_train.shape"
   ]
  },
  {
   "cell_type": "code",
   "execution_count": 78,
   "id": "68118e3e-ccc9-461a-9fee-e4142e19297f",
   "metadata": {},
   "outputs": [
    {
     "data": {
      "text/plain": [
       "((80, 5), (80,))"
      ]
     },
     "execution_count": 78,
     "metadata": {},
     "output_type": "execute_result"
    }
   ],
   "source": [
    "X_test.shape , y_test.shape"
   ]
  },
  {
   "cell_type": "code",
   "execution_count": 82,
   "id": "5c3425f3-3a96-436a-83cc-6f5c4c3b98e0",
   "metadata": {},
   "outputs": [],
   "source": [
    "model = RandomForestClassifier"
   ]
  },
  {
   "cell_type": "code",
   "execution_count": 79,
   "id": "3e92624a-5d05-45fd-916d-f862a61fea8e",
   "metadata": {},
   "outputs": [],
   "source": [
    "def rd_forest(X_train, X_test,y_train,y_test):\n",
    "    try:\n",
    "        model = RandomForestClassifier(criterion='gini')\n",
    "        model_train = model.fit(X_train, y_train)\n",
    "        pred = model_train.predict(X_test)\n",
    "        results = accuracy_score(y_test,pred)*100\n",
    "        return results\n",
    "    except:\n",
    "        print(\"|Error in Random |Forest |Function\")"
   ]
  },
  {
   "cell_type": "code",
   "execution_count": 80,
   "id": "6d712395-7e5b-4150-80cc-1d1c396cbee6",
   "metadata": {},
   "outputs": [
    {
     "name": "stdout",
     "output_type": "stream",
     "text": [
      "The accuracy of Random |Forest Tree -  92.5 %\n"
     ]
    }
   ],
   "source": [
    "results = rd_forest(X_train, X_test,y_train,y_test)\n",
    "print(\"The accuracy of Random |Forest Tree - \", results, \"%\")"
   ]
  },
  {
   "cell_type": "code",
   "execution_count": null,
   "id": "256206dc-1943-4cac-94ca-f5f8fa433a71",
   "metadata": {},
   "outputs": [],
   "source": []
  }
 ],
 "metadata": {
  "kernelspec": {
   "display_name": "Python 3 (ipykernel)",
   "language": "python",
   "name": "python3"
  },
  "language_info": {
   "codemirror_mode": {
    "name": "ipython",
    "version": 3
   },
   "file_extension": ".py",
   "mimetype": "text/x-python",
   "name": "python",
   "nbconvert_exporter": "python",
   "pygments_lexer": "ipython3",
   "version": "3.11.7"
  }
 },
 "nbformat": 4,
 "nbformat_minor": 5
}
