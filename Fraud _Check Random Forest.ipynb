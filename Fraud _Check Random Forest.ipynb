{
 "cells": [
  {
   "cell_type": "markdown",
   "id": "db82c6c3-5035-4111-9653-f18a788040bb",
   "metadata": {},
   "source": [
    "# Fraud Check upsing Random Forset -"
   ]
  },
  {
   "cell_type": "code",
   "execution_count": 1,
   "id": "5411cd54-378b-496d-b3e0-2d4b25cbf6f9",
   "metadata": {},
   "outputs": [],
   "source": [
    "# Firstly We Have to IMPORT the Libraries -\n",
    "import pandas as pd\n",
    "import seaborn as sns\n",
    "import matplotlib.pyplot as plt\n",
    "from sklearn.ensemble import RandomForestClassifier\n",
    "from sklearn.metrics import accuracy_score,confusion_matrix\n",
    "from sklearn.model_selection import train_test_split"
   ]
  },
  {
   "cell_type": "code",
   "execution_count": 3,
   "id": "c708305c-47b8-4a2f-bb95-4c0b5119b5a5",
   "metadata": {},
   "outputs": [
    {
     "data": {
      "text/html": [
       "<div>\n",
       "<style scoped>\n",
       "    .dataframe tbody tr th:only-of-type {\n",
       "        vertical-align: middle;\n",
       "    }\n",
       "\n",
       "    .dataframe tbody tr th {\n",
       "        vertical-align: top;\n",
       "    }\n",
       "\n",
       "    .dataframe thead th {\n",
       "        text-align: right;\n",
       "    }\n",
       "</style>\n",
       "<table border=\"1\" class=\"dataframe\">\n",
       "  <thead>\n",
       "    <tr style=\"text-align: right;\">\n",
       "      <th></th>\n",
       "      <th>Undergrad</th>\n",
       "      <th>Marital.Status</th>\n",
       "      <th>Taxable.Income</th>\n",
       "      <th>City.Population</th>\n",
       "      <th>Work.Experience</th>\n",
       "      <th>Urban</th>\n",
       "    </tr>\n",
       "  </thead>\n",
       "  <tbody>\n",
       "    <tr>\n",
       "      <th>0</th>\n",
       "      <td>NO</td>\n",
       "      <td>Single</td>\n",
       "      <td>68833</td>\n",
       "      <td>50047</td>\n",
       "      <td>10</td>\n",
       "      <td>YES</td>\n",
       "    </tr>\n",
       "    <tr>\n",
       "      <th>1</th>\n",
       "      <td>YES</td>\n",
       "      <td>Divorced</td>\n",
       "      <td>33700</td>\n",
       "      <td>134075</td>\n",
       "      <td>18</td>\n",
       "      <td>YES</td>\n",
       "    </tr>\n",
       "    <tr>\n",
       "      <th>2</th>\n",
       "      <td>NO</td>\n",
       "      <td>Married</td>\n",
       "      <td>36925</td>\n",
       "      <td>160205</td>\n",
       "      <td>30</td>\n",
       "      <td>YES</td>\n",
       "    </tr>\n",
       "    <tr>\n",
       "      <th>3</th>\n",
       "      <td>YES</td>\n",
       "      <td>Single</td>\n",
       "      <td>50190</td>\n",
       "      <td>193264</td>\n",
       "      <td>15</td>\n",
       "      <td>YES</td>\n",
       "    </tr>\n",
       "    <tr>\n",
       "      <th>4</th>\n",
       "      <td>NO</td>\n",
       "      <td>Married</td>\n",
       "      <td>81002</td>\n",
       "      <td>27533</td>\n",
       "      <td>28</td>\n",
       "      <td>NO</td>\n",
       "    </tr>\n",
       "  </tbody>\n",
       "</table>\n",
       "</div>"
      ],
      "text/plain": [
       "  Undergrad Marital.Status  Taxable.Income  City.Population  Work.Experience  \\\n",
       "0        NO         Single           68833            50047               10   \n",
       "1       YES       Divorced           33700           134075               18   \n",
       "2        NO        Married           36925           160205               30   \n",
       "3       YES         Single           50190           193264               15   \n",
       "4        NO        Married           81002            27533               28   \n",
       "\n",
       "  Urban  \n",
       "0   YES  \n",
       "1   YES  \n",
       "2   YES  \n",
       "3   YES  \n",
       "4    NO  "
      ]
     },
     "execution_count": 3,
     "metadata": {},
     "output_type": "execute_result"
    }
   ],
   "source": [
    "# Importing the Data from our system \n",
    "data = pd.read_csv('D:/Top Mentor/Classes Details/4th May/Files/Random Forest Project 9 & 10/Random Forests/Fraud_check.csv')\n",
    "data.head()"
   ]
  },
  {
   "cell_type": "code",
   "execution_count": 103,
   "id": "4486c6be-15d7-426e-be60-40abad893acc",
   "metadata": {},
   "outputs": [],
   "source": [
    "# Create the target column 'Target'\n",
    "data['Target'] = data['Taxable.Income'].apply(lambda x: 'Risky' if x <= 30000 else 'Good')\n",
    "\n",
    "# Drop the original 'Taxable.Income' column since it's now encoded in 'Target'\n",
    "data = data.drop('Taxable.Income', axis=1)\n"
   ]
  },
  {
   "cell_type": "code",
   "execution_count": 104,
   "id": "34ebaf36-a1a4-40ec-b2c1-41a6a4479817",
   "metadata": {},
   "outputs": [
    {
     "data": {
      "text/html": [
       "<div>\n",
       "<style scoped>\n",
       "    .dataframe tbody tr th:only-of-type {\n",
       "        vertical-align: middle;\n",
       "    }\n",
       "\n",
       "    .dataframe tbody tr th {\n",
       "        vertical-align: top;\n",
       "    }\n",
       "\n",
       "    .dataframe thead th {\n",
       "        text-align: right;\n",
       "    }\n",
       "</style>\n",
       "<table border=\"1\" class=\"dataframe\">\n",
       "  <thead>\n",
       "    <tr style=\"text-align: right;\">\n",
       "      <th></th>\n",
       "      <th>Undergrad</th>\n",
       "      <th>Marital.Status</th>\n",
       "      <th>City.Population</th>\n",
       "      <th>Work.Experience</th>\n",
       "      <th>Urban</th>\n",
       "      <th>Target</th>\n",
       "    </tr>\n",
       "  </thead>\n",
       "  <tbody>\n",
       "    <tr>\n",
       "      <th>0</th>\n",
       "      <td>0</td>\n",
       "      <td>2</td>\n",
       "      <td>50047</td>\n",
       "      <td>10</td>\n",
       "      <td>1</td>\n",
       "      <td>Good</td>\n",
       "    </tr>\n",
       "    <tr>\n",
       "      <th>1</th>\n",
       "      <td>1</td>\n",
       "      <td>0</td>\n",
       "      <td>134075</td>\n",
       "      <td>18</td>\n",
       "      <td>1</td>\n",
       "      <td>Good</td>\n",
       "    </tr>\n",
       "    <tr>\n",
       "      <th>2</th>\n",
       "      <td>0</td>\n",
       "      <td>1</td>\n",
       "      <td>160205</td>\n",
       "      <td>30</td>\n",
       "      <td>1</td>\n",
       "      <td>Good</td>\n",
       "    </tr>\n",
       "    <tr>\n",
       "      <th>3</th>\n",
       "      <td>1</td>\n",
       "      <td>2</td>\n",
       "      <td>193264</td>\n",
       "      <td>15</td>\n",
       "      <td>1</td>\n",
       "      <td>Good</td>\n",
       "    </tr>\n",
       "    <tr>\n",
       "      <th>4</th>\n",
       "      <td>0</td>\n",
       "      <td>1</td>\n",
       "      <td>27533</td>\n",
       "      <td>28</td>\n",
       "      <td>0</td>\n",
       "      <td>Good</td>\n",
       "    </tr>\n",
       "  </tbody>\n",
       "</table>\n",
       "</div>"
      ],
      "text/plain": [
       "   Undergrad  Marital.Status  City.Population  Work.Experience  Urban Target\n",
       "0          0               2            50047               10      1   Good\n",
       "1          1               0           134075               18      1   Good\n",
       "2          0               1           160205               30      1   Good\n",
       "3          1               2           193264               15      1   Good\n",
       "4          0               1            27533               28      0   Good"
      ]
     },
     "execution_count": 104,
     "metadata": {},
     "output_type": "execute_result"
    }
   ],
   "source": [
    "data.head()"
   ]
  },
  {
   "cell_type": "code",
   "execution_count": 105,
   "id": "1d5e5df6-c531-49ab-aaf8-6bbede24b445",
   "metadata": {},
   "outputs": [
    {
     "name": "stdout",
     "output_type": "stream",
     "text": [
      "Index(['Undergrad', 'Marital.Status', 'City.Population', 'Work.Experience',\n",
      "       'Urban', 'Target'],\n",
      "      dtype='object')\n"
     ]
    }
   ],
   "source": [
    "from sklearn.preprocessing import LabelEncoder\n",
    "label_encoder = LabelEncoder()\n",
    "print(data.columns)"
   ]
  },
  {
   "cell_type": "code",
   "execution_count": 106,
   "id": "2f5aaadc-0f62-4312-85a4-eac6e269c9cc",
   "metadata": {},
   "outputs": [],
   "source": [
    "data['Urban'] = label_encoder.fit_transform(data['Urban'])\n",
    "data['Undergrad'] = label_encoder.fit_transform(data['Undergrad'])\n",
    "data['Marital.Status'] = label_encoder.fit_transform(data['Marital.Status'])"
   ]
  },
  {
   "cell_type": "code",
   "execution_count": 107,
   "id": "164ed583-10d9-4584-85b3-0d26c4e2d208",
   "metadata": {},
   "outputs": [
    {
     "data": {
      "text/html": [
       "<div>\n",
       "<style scoped>\n",
       "    .dataframe tbody tr th:only-of-type {\n",
       "        vertical-align: middle;\n",
       "    }\n",
       "\n",
       "    .dataframe tbody tr th {\n",
       "        vertical-align: top;\n",
       "    }\n",
       "\n",
       "    .dataframe thead th {\n",
       "        text-align: right;\n",
       "    }\n",
       "</style>\n",
       "<table border=\"1\" class=\"dataframe\">\n",
       "  <thead>\n",
       "    <tr style=\"text-align: right;\">\n",
       "      <th></th>\n",
       "      <th>Undergrad</th>\n",
       "      <th>Marital.Status</th>\n",
       "      <th>City.Population</th>\n",
       "      <th>Work.Experience</th>\n",
       "      <th>Urban</th>\n",
       "      <th>Target</th>\n",
       "    </tr>\n",
       "  </thead>\n",
       "  <tbody>\n",
       "    <tr>\n",
       "      <th>0</th>\n",
       "      <td>0</td>\n",
       "      <td>2</td>\n",
       "      <td>50047</td>\n",
       "      <td>10</td>\n",
       "      <td>1</td>\n",
       "      <td>Good</td>\n",
       "    </tr>\n",
       "    <tr>\n",
       "      <th>1</th>\n",
       "      <td>1</td>\n",
       "      <td>0</td>\n",
       "      <td>134075</td>\n",
       "      <td>18</td>\n",
       "      <td>1</td>\n",
       "      <td>Good</td>\n",
       "    </tr>\n",
       "  </tbody>\n",
       "</table>\n",
       "</div>"
      ],
      "text/plain": [
       "   Undergrad  Marital.Status  City.Population  Work.Experience  Urban Target\n",
       "0          0               2            50047               10      1   Good\n",
       "1          1               0           134075               18      1   Good"
      ]
     },
     "execution_count": 107,
     "metadata": {},
     "output_type": "execute_result"
    }
   ],
   "source": [
    "df = data.copy()\n",
    "df.head(2)"
   ]
  },
  {
   "cell_type": "code",
   "execution_count": 90,
   "id": "9eb56fc8-0d69-4f4f-a7b2-d058a7e22763",
   "metadata": {},
   "outputs": [
    {
     "name": "stdout",
     "output_type": "stream",
     "text": [
      "no of columns -  Index(['Undergrad', 'Marital.Status', 'Taxable.Income', 'City.Population',\n",
      "       'Work.Experience', 'Urban'],\n",
      "      dtype='object')\n",
      "no of shapes -  (600, 6)\n",
      "no of lenght -  600\n"
     ]
    }
   ],
   "source": [
    "##Checking Data Parameter :-\n",
    "print('no of columns - ' , df.columns)\n",
    "print('no of shapes - ' , df.shape)\n",
    "print('no of lenght - ' , len(df))"
   ]
  },
  {
   "cell_type": "code",
   "execution_count": 108,
   "id": "816e470e-4e3d-4af1-af2d-56baa1cdf6c6",
   "metadata": {},
   "outputs": [
    {
     "name": "stdout",
     "output_type": "stream",
     "text": [
      "<class 'pandas.core.frame.DataFrame'>\n",
      "RangeIndex: 600 entries, 0 to 599\n",
      "Data columns (total 6 columns):\n",
      " #   Column           Non-Null Count  Dtype \n",
      "---  ------           --------------  ----- \n",
      " 0   Undergrad        600 non-null    int64 \n",
      " 1   Marital.Status   600 non-null    int64 \n",
      " 2   City.Population  600 non-null    int64 \n",
      " 3   Work.Experience  600 non-null    int64 \n",
      " 4   Urban            600 non-null    int64 \n",
      " 5   Target           600 non-null    object\n",
      "dtypes: int64(5), object(1)\n",
      "memory usage: 28.3+ KB\n"
     ]
    },
    {
     "data": {
      "text/plain": [
       "Undergrad          0\n",
       "Marital.Status     0\n",
       "City.Population    0\n",
       "Work.Experience    0\n",
       "Urban              0\n",
       "Target             0\n",
       "dtype: int64"
      ]
     },
     "execution_count": 108,
     "metadata": {},
     "output_type": "execute_result"
    }
   ],
   "source": [
    "#  Checking Data Information \n",
    "df.info()\n",
    "# Checking Null Value -\n",
    "df.isnull().sum()"
   ]
  },
  {
   "cell_type": "code",
   "execution_count": 109,
   "id": "7cf89f4b-337f-4753-9f26-2d286aae65c4",
   "metadata": {},
   "outputs": [
    {
     "name": "stdout",
     "output_type": "stream",
     "text": [
      "DataSet Information -\n",
      "         Undergrad  Marital.Status  City.Population  Work.Experience  \\\n",
      "count  600.000000      600.000000       600.000000       600.000000   \n",
      "mean     0.520000        1.046667    108747.368333        15.558333   \n",
      "std      0.500017        0.821958     49850.075134         8.842147   \n",
      "min      0.000000        0.000000     25779.000000         0.000000   \n",
      "25%      0.000000        0.000000     66966.750000         8.000000   \n",
      "50%      1.000000        1.000000    106493.500000        15.000000   \n",
      "75%      1.000000        2.000000    150114.250000        24.000000   \n",
      "max      1.000000        2.000000    199778.000000        30.000000   \n",
      "\n",
      "            Urban  \n",
      "count  600.000000  \n",
      "mean     0.503333  \n",
      "std      0.500406  \n",
      "min      0.000000  \n",
      "25%      0.000000  \n",
      "50%      1.000000  \n",
      "75%      1.000000  \n",
      "max      1.000000  \n"
     ]
    }
   ],
   "source": [
    "## Reading data & Checking basic features of data - \n",
    "print('DataSet Information -\\n',df.describe())"
   ]
  },
  {
   "cell_type": "code",
   "execution_count": 110,
   "id": "af7d5ac4-21e8-4c77-800d-a44809697012",
   "metadata": {},
   "outputs": [],
   "source": [
    "## Now we starting the training & Testing for data - y-(  0 No  - 1-Yes)\n",
    "X = df[['City.Population','Work.Experience','Urban','Undergrad','Marital.Status']]\n",
    "y =df['Target'] "
   ]
  },
  {
   "cell_type": "code",
   "execution_count": 111,
   "id": "6832f6df-387b-44fa-a53e-2fe96f31781f",
   "metadata": {},
   "outputs": [
    {
     "data": {
      "text/html": [
       "<div>\n",
       "<style scoped>\n",
       "    .dataframe tbody tr th:only-of-type {\n",
       "        vertical-align: middle;\n",
       "    }\n",
       "\n",
       "    .dataframe tbody tr th {\n",
       "        vertical-align: top;\n",
       "    }\n",
       "\n",
       "    .dataframe thead th {\n",
       "        text-align: right;\n",
       "    }\n",
       "</style>\n",
       "<table border=\"1\" class=\"dataframe\">\n",
       "  <thead>\n",
       "    <tr style=\"text-align: right;\">\n",
       "      <th></th>\n",
       "      <th>City.Population</th>\n",
       "      <th>Work.Experience</th>\n",
       "      <th>Urban</th>\n",
       "      <th>Undergrad</th>\n",
       "      <th>Marital.Status</th>\n",
       "    </tr>\n",
       "  </thead>\n",
       "  <tbody>\n",
       "    <tr>\n",
       "      <th>0</th>\n",
       "      <td>50047</td>\n",
       "      <td>10</td>\n",
       "      <td>1</td>\n",
       "      <td>0</td>\n",
       "      <td>2</td>\n",
       "    </tr>\n",
       "    <tr>\n",
       "      <th>1</th>\n",
       "      <td>134075</td>\n",
       "      <td>18</td>\n",
       "      <td>1</td>\n",
       "      <td>1</td>\n",
       "      <td>0</td>\n",
       "    </tr>\n",
       "  </tbody>\n",
       "</table>\n",
       "</div>"
      ],
      "text/plain": [
       "   City.Population  Work.Experience  Urban  Undergrad  Marital.Status\n",
       "0            50047               10      1          0               2\n",
       "1           134075               18      1          1               0"
      ]
     },
     "execution_count": 111,
     "metadata": {},
     "output_type": "execute_result"
    }
   ],
   "source": [
    "X.head(2)"
   ]
  },
  {
   "cell_type": "code",
   "execution_count": 112,
   "id": "bb247c96-dc80-45fd-b3d3-113907114bdd",
   "metadata": {},
   "outputs": [
    {
     "data": {
      "text/plain": [
       "0    Good\n",
       "1    Good\n",
       "Name: Target, dtype: object"
      ]
     },
     "execution_count": 112,
     "metadata": {},
     "output_type": "execute_result"
    }
   ],
   "source": [
    "y.head(2)"
   ]
  },
  {
   "cell_type": "code",
   "execution_count": 124,
   "id": "91411726-94c1-4509-8bc6-95cc53f8cdc2",
   "metadata": {},
   "outputs": [],
   "source": [
    "X_train , X_test , y_train ,y_test =train_test_split(X,y,test_size=0.2 ,random_state=12)"
   ]
  },
  {
   "cell_type": "code",
   "execution_count": 125,
   "id": "160f3bae-0328-4558-a7d6-eeee0a1300ce",
   "metadata": {},
   "outputs": [
    {
     "data": {
      "text/plain": [
       "((480, 5), (480,))"
      ]
     },
     "execution_count": 125,
     "metadata": {},
     "output_type": "execute_result"
    }
   ],
   "source": [
    "X_train.shape , y_train.shape"
   ]
  },
  {
   "cell_type": "code",
   "execution_count": 126,
   "id": "9df66fd2-dd8a-4ccb-a493-98b76d7af127",
   "metadata": {},
   "outputs": [
    {
     "data": {
      "text/plain": [
       "((120, 5), (120,))"
      ]
     },
     "execution_count": 126,
     "metadata": {},
     "output_type": "execute_result"
    }
   ],
   "source": [
    "X_test.shape , y_test.shape"
   ]
  },
  {
   "cell_type": "code",
   "execution_count": 127,
   "id": "703f7704-9d9c-4329-8554-72cc1baa8d82",
   "metadata": {},
   "outputs": [
    {
     "data": {
      "text/plain": [
       "sklearn.ensemble._forest.RandomForestClassifier"
      ]
     },
     "execution_count": 127,
     "metadata": {},
     "output_type": "execute_result"
    }
   ],
   "source": [
    "model = RandomForestClassifier\n",
    "model"
   ]
  },
  {
   "cell_type": "code",
   "execution_count": 130,
   "id": "ec6605e5-c02f-4efd-b519-e8e4fc6b7517",
   "metadata": {},
   "outputs": [],
   "source": [
    "def rd_forest(X_train, X_test,y_train,y_test):\n",
    "    try:\n",
    "        model = RandomForestClassifier(criterion='entropy') #entropy\n",
    "        model_train = model.fit(X_train, y_train)\n",
    "        pred = model_train.predict(X_test)\n",
    "        results = accuracy_score(y_test,pred)*100\n",
    "        return results\n",
    "    except:\n",
    "        print(\"|Error in Random |Forest |Function\")"
   ]
  },
  {
   "cell_type": "code",
   "execution_count": 131,
   "id": "fd6f099b-2f79-487e-aa71-e91261dc5764",
   "metadata": {},
   "outputs": [
    {
     "name": "stdout",
     "output_type": "stream",
     "text": [
      "The accuracy of Random |Forest Tree -  80.83333333333333 %\n"
     ]
    }
   ],
   "source": [
    "results = rd_forest(X_train, X_test,y_train,y_test)\n",
    "print(\"The accuracy of Random |Forest Tree - \", results, \"%\")"
   ]
  },
  {
   "cell_type": "code",
   "execution_count": 132,
   "id": "752c9060-31bd-416a-955b-3b8b652feba3",
   "metadata": {},
   "outputs": [
    {
     "data": {
      "text/plain": [
       "<pandas.plotting._core.PlotAccessor object at 0x00000274CB990190>"
      ]
     },
     "execution_count": 132,
     "metadata": {},
     "output_type": "execute_result"
    }
   ],
   "source": [
    "feat_importances = pd.Series(model.feature_importances_, index = X.columns)\n",
    "feat_importances.plot"
   ]
  },
  {
   "cell_type": "code",
   "execution_count": 133,
   "id": "206e834c-4009-48f3-b87f-95ea5551e1b0",
   "metadata": {},
   "outputs": [
    {
     "data": {
      "text/plain": [
       "City.Population    <property object at 0x00000274C8C58590>\n",
       "Work.Experience    <property object at 0x00000274C8C58590>\n",
       "Urban              <property object at 0x00000274C8C58590>\n",
       "Undergrad          <property object at 0x00000274C8C58590>\n",
       "Marital.Status     <property object at 0x00000274C8C58590>\n",
       "dtype: object"
      ]
     },
     "execution_count": 133,
     "metadata": {},
     "output_type": "execute_result"
    }
   ],
   "source": [
    "feat_importances"
   ]
  },
  {
   "cell_type": "code",
   "execution_count": null,
   "id": "24e7b9e1-18ab-4cb9-b22b-e70ab269a948",
   "metadata": {},
   "outputs": [],
   "source": []
  }
 ],
 "metadata": {
  "kernelspec": {
   "display_name": "Python 3 (ipykernel)",
   "language": "python",
   "name": "python3"
  },
  "language_info": {
   "codemirror_mode": {
    "name": "ipython",
    "version": 3
   },
   "file_extension": ".py",
   "mimetype": "text/x-python",
   "name": "python",
   "nbconvert_exporter": "python",
   "pygments_lexer": "ipython3",
   "version": "3.11.7"
  }
 },
 "nbformat": 4,
 "nbformat_minor": 5
}
